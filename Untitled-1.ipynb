{
 "cells": [
  {
   "cell_type": "code",
   "execution_count": 8,
   "metadata": {},
   "outputs": [
    {
     "data": {
      "text/plain": [
       "['assets/images/game/box.png',\n",
       " 'assets/images/game/box_docked.png',\n",
       " 'assets/images/game/dock.png',\n",
       " 'assets/images/game/floor.png',\n",
       " 'assets/images/game/game_back_btn.png',\n",
       " 'assets/images/game/game_bg.png',\n",
       " 'assets/images/game/game_bottom_bar.png',\n",
       " 'assets/images/game/game_bottom_grass.png',\n",
       " 'assets/images/game/game_down_btn.png',\n",
       " 'assets/images/game/game_exit_btn.png',\n",
       " 'assets/images/game/game_left_btn.png',\n",
       " 'assets/images/game/game_moves.png',\n",
       " 'assets/images/game/game_reset_btn.png',\n",
       " 'assets/images/game/game_right_btn.png',\n",
       " 'assets/images/game/game_top_bar.png',\n",
       " 'assets/images/game/game_top_bar_op.png',\n",
       " 'assets/images/game/game_top_grass.png',\n",
       " 'assets/images/game/game_up_btn.png',\n",
       " 'assets/images/game/old',\n",
       " 'assets/images/game/wall.png',\n",
       " 'assets/images/game/worker.png',\n",
       " 'assets/images/game/worker_dock.png',\n",
       " 'assets/images/game/worker_dock_down.png',\n",
       " 'assets/images/game/worker_dock_left.png',\n",
       " 'assets/images/game/worker_dock_right.png',\n",
       " 'assets/images/game/worker_dock_up.png',\n",
       " 'assets/images/game/worker_down.png',\n",
       " 'assets/images/game/worker_left.png',\n",
       " 'assets/images/game/worker_right.png',\n",
       " 'assets/images/game/worker_up.png']"
      ]
     },
     "execution_count": 8,
     "metadata": {},
     "output_type": "execute_result"
    }
   ],
   "source": [
    "import os\n",
    "path = r'C:\\AJAY\\GITHUB\\new-soko\\assets\\images\\game'\n",
    "files = [r'assets/images/game/'+i for i in os.listdir(path)]\n",
    "files\n"
   ]
  },
  {
   "cell_type": "code",
   "execution_count": null,
   "metadata": {},
   "outputs": [],
   "source": []
  }
 ],
 "metadata": {
  "kernelspec": {
   "display_name": "dinkan",
   "language": "python",
   "name": "python3"
  },
  "language_info": {
   "codemirror_mode": {
    "name": "ipython",
    "version": 3
   },
   "file_extension": ".py",
   "mimetype": "text/x-python",
   "name": "python",
   "nbconvert_exporter": "python",
   "pygments_lexer": "ipython3",
   "version": "3.12.1"
  }
 },
 "nbformat": 4,
 "nbformat_minor": 2
}
